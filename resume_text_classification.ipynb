{
 "cells": [
  {
   "cell_type": "markdown",
   "metadata": {},
   "source": [
    "# Resume Text Classifiaction\n",
    "\n",
    "In this notebook, I present my solution for the task of German text classification from resumes."
   ]
  },
  {
   "cell_type": "code",
   "execution_count": 1,
   "metadata": {
    "collapsed": true
   },
   "outputs": [],
   "source": [
    "# import all needed packages\n",
    "from data_io import read_json_data, store_datasets_as_csv\n",
    "from preprocessing import tokenize, downsample, train_dev_test_split\n",
    "from flair_resume_text_classifier import FlairResumeTextClassifier\n",
    "\n",
    "import matplotlib.pyplot as plt\n",
    "from sklearn.metrics import accuracy_score, confusion_matrix\n",
    "import random\n",
    "import numpy as np\n",
    "import argparse\n",
    "\n",
    "# fix the random seeds, for reproducibility.\n",
    "random.seed(1)\n",
    "np.random.seed(1)"
   ]
  },
  {
   "cell_type": "code",
   "execution_count": 2,
   "metadata": {
    "collapsed": true
   },
   "outputs": [],
   "source": [
    "# Fix the data and output path. Change these if you have different folder structure\n",
    "data_path = 'data/'\n",
    "output_path = 'output/'"
   ]
  },
  {
   "cell_type": "markdown",
   "metadata": {},
   "source": [
    "## 1. Read Raw Json data"
   ]
  },
  {
   "cell_type": "code",
   "execution_count": 3,
   "metadata": {},
   "outputs": [
    {
     "name": "stdout",
     "output_type": "stream",
     "text": [
      "Parsed json file:  10249 rows.\n"
     ]
    }
   ],
   "source": [
    "dataframe_raw = read_json_data(data_path)"
   ]
  },
  {
   "cell_type": "markdown",
   "metadata": {},
   "source": [
    "## 2. Pre-analysis\n",
    "Check if classes are balanced. If not, this introduces bias. Several approaches exist but I chose to downsample the dominant classes."
   ]
  },
  {
   "cell_type": "code",
   "execution_count": 4,
   "metadata": {},
   "outputs": [
    {
     "data": {
      "image/png": "[encoded data removed]",
      "text/plain": [
       "<Figure size 432x288 with 1 Axes>"
      ]
     },
     "metadata": {},
     "output_type": "display_data"
    }
   ],
   "source": [
    "labels_count = dataframe_raw['label'].value_counts().to_dict()\n",
    "for i, (label, count) in enumerate(labels_count.items()):\n",
    "    plt.bar(i+1, count, label=label)\n",
    "plt.yticks(list(labels_count.values()))\n",
    "plt.ylabel('Num Samples')\n",
    "plt.xticks([])\n",
    "plt.xlabel('Class')\n",
    "plt.title('Distribution of classes in the dataset')\n",
    "plt.legend()\n",
    "plt.show()"
   ]
  },
  {
   "cell_type": "markdown",
   "metadata": {},
   "source": [
    "Data is indeed imbanaced. So we will need to downsample the none and soft classes to 2289 samples each."
   ]
  },
  {
   "cell_type": "markdown",
   "metadata": {},
   "source": [
    "## 3. Preprocessing\n",
    "\n",
    "### 3.1 Downsampling"
   ]
  },
  {
   "cell_type": "code",
   "execution_count": 5,
   "metadata": {
    "collapsed": true
   },
   "outputs": [],
   "source": [
    "dataframe_downsampled = downsample(dataframe_raw, column_name='label')"
   ]
  },
  {
   "cell_type": "markdown",
   "metadata": {},
   "source": [
    "### 3.2 Tokenization\n",
    "Here I use a simple word tokenizer that doesn't remove any special characters. My proposal is that special characters are strong indications for the none class, i.e. they are relevant."
   ]
  },
  {
   "cell_type": "code",
   "execution_count": 6,
   "metadata": {
    "collapsed": true
   },
   "outputs": [],
   "source": [
    "tokenize(dataframe_downsampled)"
   ]
  },
  {
   "cell_type": "markdown",
   "metadata": {},
   "source": [
    "### 3.3 Train - Dev - Test  Split\n",
    "Train is 60%, Dev and Test are 20% each."
   ]
  },
  {
   "cell_type": "code",
   "execution_count": 7,
   "metadata": {
    "collapsed": true
   },
   "outputs": [],
   "source": [
    "train, dev, test = train_dev_test_split(dataframe_downsampled, column_name='label', dev_test_percentage=0.4)"
   ]
  },
  {
   "cell_type": "markdown",
   "metadata": {},
   "source": [
    "_________"
   ]
  },
  {
   "cell_type": "markdown",
   "metadata": {},
   "source": [
    "Now that data is ready for Flair, store it as CSV files in the data output (because flair doesn't work with dataframes)"
   ]
  },
  {
   "cell_type": "code",
   "execution_count": 9,
   "metadata": {
    "collapsed": true
   },
   "outputs": [],
   "source": [
    "store_datasets_as_csv(train, dev, test, data_path)"
   ]
  },
  {
   "cell_type": "markdown",
   "metadata": {},
   "source": [
    "## 4. Initialize Flair Objects\n",
    "Use the wrapper class to initialize the required flair objects: embeddings, corpus, classifier and model trainer.\n",
    "Note that you need a GPU for the model to finish in a reasonable time\n",
    "\n",
    "At this step, all embeddings will be downloaded, but only for the first time. Size is roughly 1.3 GB."
   ]
  },
  {
   "cell_type": "code",
   "execution_count": 10,
   "metadata": {},
   "outputs": [
    {
     "name": "stdout",
     "output_type": "stream",
     "text": [
      "2020-03-29 10:55:30,747 Reading data from data\n",
      "2020-03-29 10:55:30,748 Train: data\\train.csv\n",
      "2020-03-29 10:55:30,749 Dev: data\\dev.csv\n",
      "2020-03-29 10:55:30,750 Test: data\\test.csv\n",
      "2020-03-29 10:55:32,516 Computing label dictionary. Progress:\n"
     ]
    },
    {
     "name": "stderr",
     "output_type": "stream",
     "text": [
      "100%|████████████████████████████████████████████████████████████████████████████████████████████████████████████████████████████████| 4120/4120 [00:00<00:00, 69742.84it/s]"
     ]
    },
    {
     "name": "stdout",
     "output_type": "stream",
     "text": [
      "2020-03-29 10:55:32,579 [b'soft', b'tech', b'none']\n",
      "Initializing word embeddings from FastText and Flair\n"
     ]
    },
    {
     "name": "stderr",
     "output_type": "stream",
     "text": [
      "\n"
     ]
    }
   ],
   "source": [
    "column_map = {k: v for k, v in enumerate(dataframe_downsampled.columns)}\n",
    "model = FlairResumeTextClassifier(data_path, column_map, output_path, 'gpu')"
   ]
  },
  {
   "cell_type": "markdown",
   "metadata": {},
   "source": [
    "## 5. Train the model\n",
    "Model runs only for 20 epochs.\n",
    "\n",
    "Note I don't train the model because I wrote the notebook on a weak machine. However, this took around 5 minutes on a cluster machine with NVIDIA GTX Titan X.\n",
    "\n",
    "Also this step is output-heavy"
   ]
  },
  {
   "cell_type": "code",
   "execution_count": null,
   "metadata": {
    "collapsed": true
   },
   "outputs": [],
   "source": [
    "model.train()"
   ]
  },
  {
   "cell_type": "markdown",
   "metadata": {},
   "source": [
    "## 6. Prediction and Error Analysis\n",
    "Predict the samples output on train, dev and test. Calculate the accuracy and show the confusion matrix between classes."
   ]
  },
  {
   "cell_type": "code",
   "execution_count": null,
   "metadata": {
    "collapsed": true
   },
   "outputs": [],
   "source": [
    "train_predictions, dev_predictions, test_predictions = model.get_train_dev_test_predictions(train, dev, test)\n",
    "\n",
    "train_acc = accuracy_score(train['label'], train_predictions['prediction'])\n",
    "dev_acc = accuracy_score(dev['label'], dev_predictions['prediction'])\n",
    "test_acc = accuracy_score(test['label'], test_predictions['prediction'])\n",
    "\n",
    "print('Accuracy: Train:', train_acc, 'Dev:', dev_acc, 'Test:', test_acc)"
   ]
  },
  {
   "cell_type": "markdown",
   "metadata": {},
   "source": [
    "Pretty good accuracy given how fast and relatively simple the model is"
   ]
  },
  {
   "cell_type": "code",
   "execution_count": null,
   "metadata": {
    "collapsed": true
   },
   "outputs": [],
   "source": [
    "print('Confusion Matrix:')\n",
    "print(pd.DataFrame(confusion_matrix(dev['label'], dev_predictions, labels=['none', 'soft', 'tech']),\n",
    "                   columns=['none', 'soft', 'tech'], index=['none', 'soft', 'tech']))\n"
   ]
  },
  {
   "cell_type": "markdown",
   "metadata": {},
   "source": [
    "### That's it. I hope you enjoyed reading this. Please have a look at the code, I made sure it is as readable and documented as possible."
   ]
  },
  {
   "cell_type": "code",
   "execution_count": null,
   "metadata": {
    "collapsed": true
   },
   "outputs": [],
   "source": []
  }
 ],
 "metadata": {
  "kernelspec": {
   "display_name": "Python 3",
   "language": "python",
   "name": "python3"
  },
  "language_info": {
   "codemirror_mode": {
    "name": "ipython",
    "version": 3
   },
   "file_extension": ".py",
   "mimetype": "text/x-python",
   "name": "python",
   "nbconvert_exporter": "python",
   "pygments_lexer": "ipython3",
   "version": "3.6.7"
  }
 },
 "nbformat": 4,
 "nbformat_minor": 2
}
